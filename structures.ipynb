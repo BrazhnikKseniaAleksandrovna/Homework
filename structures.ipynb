{
  "cells": [
    {
      "cell_type": "code",
      "execution_count": 7,
      "metadata": {
        "id": "3MeKai5Xj6eX"
      },
      "outputs": [],
      "source": [
        "import numpy as np"
      ]
    },
    {
      "cell_type": "markdown",
      "metadata": {
        "id": "wwlFrG-Tj6eY"
      },
      "source": [
        "**Module** is an abstract class which defines fundamental methods necessary for a training a neural network. You do not need to change anything here, just read the comments."
      ]
    },
    {
      "cell_type": "code",
      "execution_count": 10,
      "metadata": {
        "id": "W8BLmtZ3j6eZ"
      },
      "outputs": [],
      "source": [
        "class Module(object):\n",
        "    \"\"\"\n",
        "    Basically, you can think of a module as of a something (black box)\n",
        "    which can process `input` data and produce `ouput` data.\n",
        "    This is like applying a function which is called `forward`:\n",
        "\n",
        "        output = module.forward(input)\n",
        "\n",
        "    The module should be able to perform a backward pass: to differentiate the `forward` function.\n",
        "    More, it should be able to differentiate it if is a part of chain (chain rule).\n",
        "    The latter implies there is a gradient from previous step of a chain rule.\n",
        "\n",
        "        gradInput = module.backward(input, gradOutput)\n",
        "    \"\"\"\n",
        "    def __init__ (self):\n",
        "        self.output = None\n",
        "        self.gradInput = None\n",
        "        self.training = True\n",
        "\n",
        "    def forward(self, input):\n",
        "        \"\"\"\n",
        "        Takes an input object, and computes the corresponding output of the module.\n",
        "        \"\"\"\n",
        "        return self.updateOutput(input)\n",
        "\n",
        "    def backward(self,input, gradOutput):\n",
        "        \"\"\"\n",
        "        Performs a backpropagation step through the module, with respect to the given input.\n",
        "\n",
        "        This includes\n",
        "         - computing a gradient w.r.t. `input` (is needed for further backprop),\n",
        "         - computing a gradient w.r.t. parameters (to update parameters while optimizing).\n",
        "        \"\"\"\n",
        "        self.updateGradInput(input, gradOutput)\n",
        "        self.accGradParameters(input, gradOutput)\n",
        "        return self.gradInput\n",
        "\n",
        "\n",
        "    def updateOutput(self, input):\n",
        "        \"\"\"\n",
        "        Computes the output using the current parameter set of the class and input.\n",
        "        This function returns the result which is stored in the `output` field.\n",
        "\n",
        "        Make sure to both store the data in `output` field and return it.\n",
        "        \"\"\"\n",
        "\n",
        "        # The easiest case:\n",
        "\n",
        "        # self.output = input\n",
        "        # return self.output\n",
        "\n",
        "        pass\n",
        "\n",
        "    def updateGradInput(self, input, gradOutput):\n",
        "        \"\"\"\n",
        "        Computing the gradient of the module with respect to its own input.\n",
        "        This is returned in `gradInput`. Also, the `gradInput` state variable is updated accordingly.\n",
        "\n",
        "        The shape of `gradInput` is always the same as the shape of `input`.\n",
        "\n",
        "        Make sure to both store the gradients in `gradInput` field and return it.\n",
        "        \"\"\"\n",
        "\n",
        "        # The easiest case:\n",
        "\n",
        "        # self.gradInput = gradOutput\n",
        "        # return self.gradInput\n",
        "\n",
        "        pass\n",
        "\n",
        "    def accGradParameters(self, input, gradOutput):\n",
        "        \"\"\"\n",
        "        Computing the gradient of the module with respect to its own parameters.\n",
        "        No need to override if module has no parameters (e.g. ReLU).\n",
        "        \"\"\"\n",
        "        pass\n",
        "\n",
        "    def zeroGradParameters(self):\n",
        "        \"\"\"\n",
        "        Zeroes `gradParams` variable if the module has params.\n",
        "        \"\"\"\n",
        "        pass\n",
        "\n",
        "    def getParameters(self):\n",
        "        \"\"\"\n",
        "        Returns a list with its parameters.\n",
        "        If the module does not have parameters return empty list.\n",
        "        \"\"\"\n",
        "        return []\n",
        "\n",
        "    def getGradParameters(self):\n",
        "        \"\"\"\n",
        "        Returns a list with gradients with respect to its parameters.\n",
        "        If the module does not have parameters return empty list.\n",
        "        \"\"\"\n",
        "        return []\n",
        "\n",
        "    def train(self):\n",
        "        \"\"\"\n",
        "        Sets training mode for the module.\n",
        "        Training and testing behaviour differs for Dropout, BatchNorm.\n",
        "        \"\"\"\n",
        "        self.training = True\n",
        "\n",
        "    def evaluate(self):\n",
        "        \"\"\"\n",
        "        Sets evaluation mode for the module.\n",
        "        Training and testing behaviour differs for Dropout, BatchNorm.\n",
        "        \"\"\"\n",
        "        self.training = False\n",
        "\n",
        "    def __repr__(self):\n",
        "        \"\"\"\n",
        "        Pretty printing. Should be overrided in every module if you want\n",
        "        to have readable description.\n",
        "        \"\"\"\n",
        "        return \"Module\""
      ]
    },
    {
      "cell_type": "markdown",
      "metadata": {
        "id": "mKRkIjT8j6eZ"
      },
      "source": [
        "# Sequential container"
      ]
    },
    {
      "cell_type": "markdown",
      "metadata": {
        "id": "Cb98PPpJj6ea"
      },
      "source": [
        "**Define** a forward and backward pass procedures."
      ]
    },
    {
      "cell_type": "code",
      "execution_count": 11,
      "metadata": {
        "id": "7y2lav4dj6ea"
      },
      "outputs": [],
      "source": [
        "class Sequential(Module):\n",
        "    \"\"\"\n",
        "         This class implements a container, which processes `input` data sequentially.\n",
        "\n",
        "         `input` is processed by each module (layer) in self.modules consecutively.\n",
        "         The resulting array is called `output`.\n",
        "    \"\"\"\n",
        "\n",
        "    def __init__ (self):\n",
        "        super(Sequential, self).__init__()\n",
        "        self.modules = []\n",
        "\n",
        "    def add(self, module):\n",
        "        \"\"\"\n",
        "        Adds a module to the container.\n",
        "        \"\"\"\n",
        "        self.modules.append(module)\n",
        "\n",
        "    def updateOutput(self, input):\n",
        "        \"\"\"\n",
        "        Basic workflow of FORWARD PASS:\n",
        "\n",
        "            y_0    = module[0].forward(input)\n",
        "            y_1    = module[1].forward(y_0)\n",
        "            ...\n",
        "            output = module[n-1].forward(y_{n-2})\n",
        "\n",
        "\n",
        "        Just write a little loop.\n",
        "        \"\"\"\n",
        "        self.output = input\n",
        "        for module in self.modules:\n",
        "            self.output = module.forward(self.output)\n",
        "\n",
        "        # Your code goes here. ################################################\n",
        "        return self.output\n",
        "\n",
        "    def backward(self, input, gradOutput):\n",
        "        \"\"\"\n",
        "        Workflow of BACKWARD PASS:\n",
        "\n",
        "            g_{n-1} = module[n-1].backward(y_{n-2}, gradOutput)\n",
        "            g_{n-2} = module[n-2].backward(y_{n-3}, g_{n-1})\n",
        "            ...\n",
        "            g_1 = module[1].backward(y_0, g_2)\n",
        "            gradInput = module[0].backward(input, g_1)\n",
        "\n",
        "\n",
        "        !!!\n",
        "\n",
        "        To ech module you need to provide the input, module saw while forward pass,\n",
        "        it is used while computing gradients.\n",
        "        Make sure that the input for `i-th` layer the output of `module[i]` (just the same input as in forward pass)\n",
        "        and NOT `input` to this Sequential module.\n",
        "\n",
        "        !!!\n",
        "\n",
        "        \"\"\"\n",
        "        self.gradInput = gradOutput\n",
        "        for i in reversed(range(len(self.modules))):\n",
        "            prev_input = self.modules[i - 1].output if i > 0 else input\n",
        "            self.gradInput = self.modules[i].backward(prev_input, self.gradInput)\n",
        "            self.modules[i].accGradParameters(prev_input, self.gradInput)\n",
        "        # Your code goes here. ################################################\n",
        "        return self.gradInput\n",
        "\n",
        "\n",
        "    def zeroGradParameters(self):\n",
        "        for module in self.modules:\n",
        "            module.zeroGradParameters()\n",
        "\n",
        "    def getParameters(self):\n",
        "        \"\"\"\n",
        "        Should gather all parameters in a list.\n",
        "        \"\"\"\n",
        "        return [x.getParameters() for x in self.modules]\n",
        "\n",
        "    def getGradParameters(self):\n",
        "        \"\"\"\n",
        "        Should gather all gradients w.r.t parameters in a list.\n",
        "        \"\"\"\n",
        "        return [x.getGradParameters() for x in self.modules]\n",
        "\n",
        "    def __repr__(self):\n",
        "        string = \"\".join([str(x) + '\\n' for x in self.modules])\n",
        "        return string\n",
        "\n",
        "    def __getitem__(self,x):\n",
        "        return self.modules.__getitem__(x)\n",
        "\n",
        "    def train(self):\n",
        "        \"\"\"\n",
        "        Propagates training parameter through all modules\n",
        "        \"\"\"\n",
        "        self.training = True\n",
        "        for module in self.modules:\n",
        "            module.train()\n",
        "\n",
        "    def evaluate(self):\n",
        "        \"\"\"\n",
        "        Propagates training parameter through all modules\n",
        "        \"\"\"\n",
        "        self.training = False\n",
        "        for module in self.modules:\n",
        "            module.evaluate()"
      ]
    },
    {
      "cell_type": "markdown",
      "metadata": {
        "id": "zfXdYfO4j6ea"
      },
      "source": [
        "# Layers"
      ]
    },
    {
      "cell_type": "markdown",
      "metadata": {
        "id": "ZuwvBkuNj6ea"
      },
      "source": [
        "## 1 (0.2). Linear transform layer\n",
        "Also known as dense layer, fully-connected layer, FC-layer, InnerProductLayer (in caffe), affine transform\n",
        "- input:   **`batch_size x n_feats1`**\n",
        "- output: **`batch_size x n_feats2`**"
      ]
    },
    {
      "cell_type": "code",
      "execution_count": 12,
      "metadata": {
        "id": "D0uoyqkpj6ea"
      },
      "outputs": [],
      "source": [
        "class Linear(Module):\n",
        "    \"\"\"\n",
        "    A module which applies a linear transformation #Модуль, который применяет линейное преобразование\n",
        "    A common name is fully-connected layer, InnerProductLayer in caffe. #Распространенное название — полностью связанный слой, InnerProductLayer в Caffe.\n",
        "\n",
        "    The module should work with 2D input of shape (n_samples, n_feature). #Модуль должен работать с 2D-входом формы (n_samples, n_feature).\n",
        "    \"\"\"\n",
        "    def __init__(self, n_in, n_out):\n",
        "        super(Linear, self).__init__()\n",
        "\n",
        "        # This is a nice initialization\n",
        "        stdv = 1./np.sqrt(n_in)\n",
        "        self.W = np.random.uniform(-stdv, stdv, size = (n_out, n_in))\n",
        "        self.b = np.random.uniform(-stdv, stdv, size = n_out)\n",
        "\n",
        "        self.gradW = np.zeros_like(self.W)\n",
        "        self.gradb = np.zeros_like(self.b)\n",
        "\n",
        "    def updateOutput(self, input):\n",
        "        # Your code goes here. ################################################\n",
        "        self.output = np.dot(input, self.W.T) + self.b\n",
        "        return self.output\n",
        "\n",
        "    def updateGradInput(self, input, gradOutput):\n",
        "        # Your code goes here. ################################################\n",
        "        self.gradInput = np.dot(gradOutput, self.W)\n",
        "        return self.gradInput\n",
        "\n",
        "    def accGradParameters(self, input, gradOutput):\n",
        "        # Your code goes here. ################################################\n",
        "        self.gradW = self.gradW + np.dot(gradOutput.T, input)\n",
        "        self.gradb = self.gradb + np.sum(gradOutput, axis=0)\n",
        "        # self.gradW = ... ; self.gradb = ...\n",
        "        pass\n",
        "\n",
        "    def zeroGradParameters(self):\n",
        "        self.gradW.fill(0)\n",
        "        self.gradb.fill(0)\n",
        "\n",
        "    def getParameters(self):\n",
        "        return [self.W, self.b]\n",
        "\n",
        "    def getGradParameters(self):\n",
        "        return [self.gradW, self.gradb]\n",
        "\n",
        "    def __repr__(self):\n",
        "        s = self.W.shape\n",
        "        q = 'Linear %d -> %d' %(s[1],s[0])\n",
        "        return q"
      ]
    },
    {
      "cell_type": "markdown",
      "metadata": {
        "id": "tNOnHXZJj6eb"
      },
      "source": [
        "## 2. (0.2) SoftMax\n",
        "- input:   **`batch_size x n_feats`**\n",
        "- output: **`batch_size x n_feats`**\n",
        "\n",
        "$\\text{softmax}(x)_i = \\frac{\\exp x_i} {\\sum_j \\exp x_j}$\n",
        "\n",
        "Recall that $\\text{softmax}(x) == \\text{softmax}(x - \\text{const})$. It makes possible to avoid computing exp() from large argument."
      ]
    },
    {
      "cell_type": "code",
      "execution_count": 13,
      "metadata": {
        "id": "VIValI0hj6eb"
      },
      "outputs": [],
      "source": [
        "class SoftMax(Module):\n",
        "    def __init__(self):\n",
        "         super(SoftMax, self).__init__()\n",
        "\n",
        "    def updateOutput(self, input):\n",
        "        # start with normalization for numerical stability\n",
        "        self.output = np.subtract(input, input.max(axis=1, keepdims=True))\n",
        "        input_exp = np.exp(np.subtract(input, np.max(input, axis=1, keepdims=True)))\n",
        "        self.output = input_exp / np.sum(input_exp, axis=1, keepdims=True)\n",
        "\n",
        "        # Your code goes here. ################################################\n",
        "        return self.output\n",
        "\n",
        "    def updateGradInput(self, input, gradOutput):\n",
        "        batch_size = self.output.shape[0]\n",
        "        self.gradInput = np.empty_like(self.output)\n",
        "\n",
        "        for i in range(batch_size):\n",
        "            softmax_i = self.output[i].reshape(-1, 1)\n",
        "            jacobian = np.diagflat(softmax_i) - np.dot(softmax_i, softmax_i.T)\n",
        "            self.gradInput[i] = np.dot(jacobian, gradOutput[i])\n",
        "        # Your code goes here. ################################################\n",
        "        return self.gradInput\n",
        "\n",
        "    def __repr__(self):\n",
        "        return \"SoftMax\""
      ]
    },
    {
      "cell_type": "markdown",
      "metadata": {
        "id": "Cy3DJjynj6eb"
      },
      "source": [
        "## 3. (0.2) LogSoftMax\n",
        "- input:   **`batch_size x n_feats`**\n",
        "- output: **`batch_size x n_feats`**\n",
        "\n",
        "$\\text{logsoftmax}(x)_i = \\log\\text{softmax}(x)_i = x_i - \\log {\\sum_j \\exp x_j}$\n",
        "\n",
        "The main goal of this layer is to be used in computation of log-likelihood loss."
      ]
    },
    {
      "cell_type": "code",
      "execution_count": 14,
      "metadata": {
        "id": "Xo7DRdAJj6eb"
      },
      "outputs": [],
      "source": [
        "class LogSoftMax(Module):\n",
        "    def __init__(self):\n",
        "         super(LogSoftMax, self).__init__()\n",
        "\n",
        "    def updateOutput(self, input):\n",
        "        # start with normalization for numerical stability\n",
        "        self.output = np.subtract(input, input.max(axis=1, keepdims=True))\n",
        "        logsumexp = np.log(np.sum(np.exp(np.subtract(input, np.max(input, axis=1, keepdims=True))), axis=1, keepdims=True))\n",
        "        self.output = input - np.max(input, axis=1, keepdims=True) - logsumexp\n",
        "\n",
        "        # Your code goes here. ################################################\n",
        "        return self.output\n",
        "\n",
        "    def updateGradInput(self, input, gradOutput):\n",
        "        softmax = np.exp(self.output)\n",
        "        self.gradInput = gradOutput - softmax * np.sum(gradOutput, axis=1, keepdims=True)\n",
        "        # Your code goes here. ################################################\n",
        "        return self.gradInput\n",
        "\n",
        "    def __repr__(self):\n",
        "        return \"LogSoftMax\""
      ]
    },
    {
      "cell_type": "markdown",
      "metadata": {
        "id": "QP5QdmmPj6eb"
      },
      "source": [
        "## 4. (0.3) Batch normalization\n",
        "One of the most significant recent ideas that impacted NNs a lot is [**Batch normalization**](http://arxiv.org/abs/1502.03167). The idea is simple, yet effective: the features should be whitened ($mean = 0$, $std = 1$) all the way through NN. This improves the convergence for deep models letting it train them for days but not weeks. **You are** to implement the first part of the layer: features normalization. The second part (`ChannelwiseScaling` layer) is implemented below.\n",
        "\n",
        "- input:   **`batch_size x n_feats`**\n",
        "- output: **`batch_size x n_feats`**\n",
        "\n",
        "The layer should work as follows. While training (`self.training == True`) it transforms input as $$y = \\frac{x - \\mu}  {\\sqrt{\\sigma + \\epsilon}}$$\n",
        "where $\\mu$ and $\\sigma$ - mean and variance of feature values in **batch** and $\\epsilon$ is just a small number for numericall stability. Also during training, layer should maintain exponential moving average values for mean and variance:\n",
        "```\n",
        "    self.moving_mean = self.moving_mean * alpha + batch_mean * (1 - alpha)\n",
        "    self.moving_variance = self.moving_variance * alpha + batch_variance * (1 - alpha)\n",
        "```\n",
        "During testing (`self.training == False`) the layer normalizes input using moving_mean and moving_variance.\n",
        "\n",
        "Note that decomposition of batch normalization on normalization itself and channelwise scaling here is just a common **implementation** choice. In general \"batch normalization\" always assumes normalization + scaling."
      ]
    },
    {
      "cell_type": "code",
      "execution_count": 15,
      "metadata": {
        "id": "fGTTDqVgj6eb"
      },
      "outputs": [],
      "source": [
        "class BatchNormalization(Module):\n",
        "    EPS = 1e-3\n",
        "    def __init__(self, alpha = 0.):\n",
        "        super(BatchNormalization, self).__init__()\n",
        "        self.alpha = alpha\n",
        "        self.moving_mean = None\n",
        "        self.moving_variance = None\n",
        "\n",
        "    def updateOutput(self, input):\n",
        "        # Your code goes here. ################################################\n",
        "        if self.moving_mean is None:\n",
        "            self.moving_mean = np.zeros(input.shape[1])\n",
        "            self.moving_variance = np.ones(input.shape[1])\n",
        "\n",
        "        if self.training:\n",
        "            batch_mean = np.mean(input, axis=0)\n",
        "            batch_variance = np.var(input, axis=0)\n",
        "\n",
        "            self.moving_mean = self.alpha * self.moving_mean + (1 - self.alpha) * batch_mean\n",
        "            self.moving_variance = self.alpha * self.moving_variance + (1 - self.alpha) * batch_variance\n",
        "\n",
        "            self.output = (input - batch_mean) / np.sqrt(batch_variance + self.EPS)\n",
        "        else:\n",
        "            self.output = (input - self.moving_mean) / np.sqrt(self.moving_variance + self.EPS)\n",
        "        # use self.EPS please\n",
        "        return self.output\n",
        "\n",
        "    def updateGradInput(self, input, gradOutput):\n",
        "        batch_size = input.shape[0]\n",
        "        mean = np.mean(input, axis=0)\n",
        "        variance = np.var(input, axis=0)\n",
        "        std_inv = 1.0 / np.sqrt(variance + self.EPS)\n",
        "\n",
        "        d_var = np.sum(gradOutput * (input - mean) * -0.5 * std_inv**3, axis=0)\n",
        "        d_mean = np.sum(gradOutput * -std_inv, axis=0) + d_var * np.mean(-2.0 * (input - mean), axis=0)\n",
        "\n",
        "        self.gradInput = gradOutput * std_inv + (d_var * 2.0 * (input - mean) + d_mean) / batch_size\n",
        "        # Your code goes here. ################################################\n",
        "        return self.gradInput\n",
        "\n",
        "    def __repr__(self):\n",
        "        return \"BatchNormalization\""
      ]
    },
    {
      "cell_type": "code",
      "execution_count": 16,
      "metadata": {
        "id": "8XUS3Lt-j6eb"
      },
      "outputs": [],
      "source": [
        "class ChannelwiseScaling(Module):\n",
        "    \"\"\"\n",
        "       Implements linear transform of input y = \\gamma * x + \\beta\n",
        "       where \\gamma, \\beta - learnable vectors of length x.shape[-1]\n",
        "    \"\"\"\n",
        "    def __init__(self, n_out):\n",
        "        super(ChannelwiseScaling, self).__init__()\n",
        "\n",
        "        stdv = 1./np.sqrt(n_out)\n",
        "        self.gamma = np.random.uniform(-stdv, stdv, size=n_out)\n",
        "        self.beta = np.random.uniform(-stdv, stdv, size=n_out)\n",
        "\n",
        "        self.gradGamma = np.zeros_like(self.gamma)\n",
        "        self.gradBeta = np.zeros_like(self.beta)\n",
        "\n",
        "    def updateOutput(self, input):\n",
        "        self.output = input * self.gamma + self.beta\n",
        "        return self.output\n",
        "\n",
        "    def updateGradInput(self, input, gradOutput):\n",
        "        self.gradInput = gradOutput * self.gamma\n",
        "        return self.gradInput\n",
        "\n",
        "    def accGradParameters(self, input, gradOutput):\n",
        "        self.gradBeta = np.sum(gradOutput, axis=0)\n",
        "        self.gradGamma = np.sum(gradOutput*input, axis=0)\n",
        "\n",
        "    def zeroGradParameters(self):\n",
        "        self.gradGamma.fill(0)\n",
        "        self.gradBeta.fill(0)\n",
        "\n",
        "    def getParameters(self):\n",
        "        return [self.gamma, self.beta]\n",
        "\n",
        "    def getGradParameters(self):\n",
        "        return [self.gradGamma, self.gradBeta]\n",
        "\n",
        "    def __repr__(self):\n",
        "        return \"ChannelwiseScaling\""
      ]
    },
    {
      "cell_type": "markdown",
      "metadata": {
        "id": "vA5zjM3jj6eb"
      },
      "source": [
        "Practical notes. If BatchNormalization is placed after a linear transformation layer (including dense layer, convolutions, channelwise scaling) that implements function like `y = weight * x + bias`, than bias adding become useless and could be omitted since its effect will be discarded while batch mean subtraction. If BatchNormalization (followed by `ChannelwiseScaling`) is placed before a layer that propagates scale (including ReLU, LeakyReLU) followed by any linear transformation layer than parameter `gamma` in `ChannelwiseScaling` could be freezed since it could be absorbed into the linear transformation layer."
      ]
    },
    {
      "cell_type": "markdown",
      "metadata": {
        "id": "Gackeo1cj6eb"
      },
      "source": [
        "## 5. (0.3) Dropout\n",
        "Implement [**dropout**](https://www.cs.toronto.edu/~hinton/absps/JMLRdropout.pdf). The idea and implementation is really simple: just multimply the input by $Bernoulli(p)$ mask. Here $p$ is probability of an element to be zeroed.\n",
        "\n",
        "This has proven to be an effective technique for regularization and preventing the co-adaptation of neurons.\n",
        "\n",
        "While training (`self.training == True`) it should sample a mask on each iteration (for every batch), zero out elements and multiply elements by $1 / (1 - p)$. The latter is needed for keeping mean values of features close to mean values which will be in test mode. When testing this module should implement identity transform i.e. `self.output = input`.\n",
        "\n",
        "- input:   **`batch_size x n_feats`**\n",
        "- output: **`batch_size x n_feats`**"
      ]
    },
    {
      "cell_type": "code",
      "execution_count": 18,
      "metadata": {
        "id": "NmLQV3jXj6eb"
      },
      "outputs": [],
      "source": [
        "class Dropout(Module):\n",
        "    def __init__(self, p=0.5):\n",
        "        super(Dropout, self).__init__()\n",
        "        self.p = p\n",
        "        self.mask = None\n",
        "\n",
        "    def updateOutput(self, input):\n",
        "        if self.training:\n",
        "            self.mask = (np.random.rand(*input.shape) > self.p) / (1.0 - self.p)\n",
        "            self.output = input * self.mask\n",
        "        else:\n",
        "            self.output = input\n",
        "        # Your code goes here. ################################################\n",
        "        return  self.output\n",
        "\n",
        "    def updateGradInput(self, input, gradOutput):\n",
        "        self.gradInput = gradOutput * self.mask if self.training else gradOutput\n",
        "        # Your code goes here. ################################################\n",
        "        return self.gradInput\n",
        "\n",
        "    def __repr__(self):\n",
        "        return \"Dropout\""
      ]
    },
    {
      "cell_type": "markdown",
      "metadata": {
        "id": "-WHGIqJFlhz2"
      },
      "source": [
        "#6. (2.0) Conv2d\n",
        "Implement [**Conv2d**](https://pytorch.org/docs/stable/generated/torch.nn.Conv2d.html). Use only this list of parameters: (in_channels, out_channels, kernel_size, stride, padding, bias, padding_mode) and fix dilation=1 and groups=1."
      ]
    },
    {
      "cell_type": "code",
      "execution_count": 19,
      "metadata": {
        "id": "DQThOFLmAZsD"
      },
      "outputs": [],
      "source": [
        "class Conv2d(Module):\n",
        "    def __init__(self, in_channels, out_channels, kernel_size,\n",
        "                 stride=1, padding=0, bias=True, padding_mode='zeros'):\n",
        "        super(Conv2d, self).__init__()\n",
        "\n",
        "        self.in_channels = in_channels\n",
        "        self.out_channels = out_channels\n",
        "        self.kernel_size = kernel_size\n",
        "        self.stride = stride\n",
        "        self.padding = padding\n",
        "        self.padding_mode = padding_mode\n",
        "\n",
        "        if bias:\n",
        "            self.bias = np.zeros(self.out_channels)\n",
        "        else:\n",
        "            self.bias = None\n",
        "\n",
        "        self.weight = np.random.randn(\n",
        "            self.out_channels, self.in_channels, self.kernel_size, self.kernel_size\n",
        "        ) * np.sqrt(2. / (self.in_channels * self.kernel_size * self.kernel_size))\n",
        "\n",
        "    def fold_padding_into_edges(self, grad_input_padded, pad):\n",
        "        # top padding back into first valid row\n",
        "        grad_input_padded[:, :, pad, :] += np.sum(grad_input_padded[:, :, :pad, :], axis=2)\n",
        "        # bottom padding\n",
        "        grad_input_padded[:, :, -pad-1, :] += np.sum(grad_input_padded[:, :, -pad:, :], axis=2)\n",
        "        # left padding\n",
        "        grad_input_padded[:, :, :, pad] += np.sum(grad_input_padded[:, :, :, :pad], axis=3)\n",
        "        # right padding\n",
        "        grad_input_padded[:, :, :, -pad-1] += np.sum(grad_input_padded[:, :, :, -pad:], axis=3)\n",
        "        return grad_input_padded\n",
        "\n",
        "    def fold_padding_into_edges_offset(grad_input_padded, pad):\n",
        "        b, c, h, w = grad_input_padded.shape\n",
        "\n",
        "        # Top padding\n",
        "        for i in range(pad):\n",
        "            grad_input_padded[:, :, i + 1 + pad, :] += grad_input_padded[:, :, i, :]  #Складываем i-ю строку паддинга с i+1 строкой матрицы\n",
        "\n",
        "        # Bottom padding\n",
        "        for i in range(pad):\n",
        "            grad_input_padded[:, :, h - 2 * pad - 1 - i, :] += grad_input_padded[:, :, h - pad + i, :]  #Складываем i-ю строку паддинга (снизу) с i+1 строкой матрицы (снизу)\n",
        "\n",
        "        # Left padding\n",
        "        for i in range(pad):\n",
        "            grad_input_padded[:, :, :, i + 1 + pad] += grad_input_padded[:, :, :, i] #Складываем i-й столбец паддинга с i+1 столбцом матрицы\n",
        "\n",
        "        # Right padding\n",
        "        for i in range(pad):\n",
        "            grad_input_padded[:, :, :, w - 2 * pad - 1 - i] += grad_input_padded[:, :, :, w - pad + i] #Складываем i-й столбец паддинга (справа) с i+1 столбцом матрицы (справа)\n",
        "\n",
        "\n",
        "        return grad_input_padded\n",
        "\n",
        "\n",
        "    def pad_input(self, input):\n",
        "        kwargs = {}\n",
        "\n",
        "        if self.padding == 0:\n",
        "            return input\n",
        "        elif self.padding == 'same':\n",
        "            self.padding = (self.kernel_size - self.stride) // 2\n",
        "\n",
        "        if self.padding_mode == 'zeros':\n",
        "            self.padding_mode = 'constant'\n",
        "            kwargs = {'constant_values': 0}\n",
        "        elif self.padding_mode == 'replicate':\n",
        "            self.padding_mode = 'edge'\n",
        "        elif self.padding_mode == 'reflect':\n",
        "            self.padding_mode = 'reflect'\n",
        "        return np.pad(input, ((0, 0), (0, 0), (self.padding, self.padding), (self.padding, self.padding)), mode=self.padding_mode, **kwargs)\n",
        "\n",
        "    def updateOutput(self, input):\n",
        "        self.input = input\n",
        "        B, in_C, H, W = input.shape\n",
        "\n",
        "        padded_input = self.pad_input(self.input)\n",
        "        self.padded_input = padded_input\n",
        "        (stride_y, stride_x) = self.stride if isinstance(self.stride, tuple) else (self.stride, self.stride)\n",
        "        outH = (H + 2 * self.padding - self.kernel_size) // stride_y + 1\n",
        "        outW = (W + 2 * self.padding - self.kernel_size) // stride_x + 1\n",
        "        self.output = np.zeros((B, self.out_channels, outH, outW))\n",
        "\n",
        "        for b in range(B):\n",
        "            for o in range(self.out_channels):\n",
        "                for i in range(0, outH):\n",
        "                    for j in range(0, outW):\n",
        "                        region = padded_input[\n",
        "                            b,\n",
        "                            :,\n",
        "                            i*stride_y:i*stride_y+self.kernel_size,\n",
        "                            j*stride_x:j*stride_x+self.kernel_size]\n",
        "                        self.output[b, o, i, j] = np.sum(region * self.weight[o]) + (self.bias[o] if self.bias is not None else 0)\n",
        "        # Your code goes here. ################################################\n",
        "        return self.output\n",
        "\n",
        "    def updateGradInput(self, input, gradOutput):\n",
        "        B, in_C, H, W = input.shape\n",
        "        k = self.kernel_size\n",
        "        (stride_y, stride_x) = self.stride if isinstance(self.stride, tuple) else (self.stride, self.stride)\n",
        "        p = self.padding\n",
        "        outH, outW = gradOutput.shape[2:]\n",
        "\n",
        "        grad_input_padded = np.zeros((B, in_C, H + 2*p, W + 2*p))\n",
        "\n",
        "        for b in range(B):\n",
        "            for o in range(self.out_channels):\n",
        "                for i in range(outH):\n",
        "                    for j in range(outW):\n",
        "                        grad = gradOutput[b, o, i, j]\n",
        "                        grad_input_padded[b, :, i*stride_y:i*stride_y+k, j*stride_x:j*stride_x+k] += self.weight[o] * grad\n",
        "\n",
        "        if p == 0:\n",
        "            self.gradInput = grad_input_padded\n",
        "        elif self.padding_mode in ['edge']:\n",
        "            grad_input_padded = self.fold_padding_into_edges(grad_input_padded, p)\n",
        "            self.gradInput = grad_input_padded[:, :, p:-p, p:-p]\n",
        "        elif self.padding_mode in ['reflect']:\n",
        "            grad_input_padded = self.fold_padding_into_reflect(grad_input_padded, p)\n",
        "            self.gradInput = grad_input_padded[:, :, p:-p, p:-p]\n",
        "        else:\n",
        "            self.gradInput = grad_input_padded[:, :, p:-p, p:-p]\n",
        "        # Your code goes here. ################################################\n",
        "        return self.gradInput\n",
        "\n",
        "    def __repr__(self):\n",
        "        return \"Conv2d\""
      ]
    },
    {
      "cell_type": "markdown",
      "metadata": {
        "id": "updUVZE9qixP"
      },
      "source": [
        "#7. (0.5) Implement [**MaxPool2d**](https://pytorch.org/docs/stable/generated/torch.nn.MaxPool2d.html) and [**AvgPool2d**](https://pytorch.org/docs/stable/generated/torch.nn.AvgPool2d.html). Use only parameters like kernel_size, stride, padding (negative infinity for maxpool and zero for avgpool) and other parameters fixed as in framework."
      ]
    },
    {
      "cell_type": "code",
      "execution_count": 20,
      "metadata": {
        "id": "Qys58EzkqhLj"
      },
      "outputs": [],
      "source": [
        "class MaxPool2d(Module):\n",
        "    def __init__(self, kernel_size, stride, padding):\n",
        "        super(MaxPool2d, self).__init__()\n",
        "\n",
        "        self.kernel_size = kernel_size\n",
        "        self.stride = stride\n",
        "        self.padding = padding\n",
        "\n",
        "    def updateOutput(self, input):\n",
        "        batch_size, channels, height, width = input.shape\n",
        "        pad = self.padding\n",
        "        input_padded = np.pad(input, ((0, 0), (0, 0), (pad, pad), (pad, pad)), mode='constant')\n",
        "\n",
        "        out_height = (height + 2 * pad - self.kernel_size) // self.stride + 1\n",
        "        out_width = (width + 2 * pad - self.kernel_size) // self.stride + 1\n",
        "        self.output = np.zeros((batch_size, channels, out_height, out_width))\n",
        "\n",
        "        self.max_indices = np.zeros_like(input, dtype=int)\n",
        "\n",
        "        for i in range(out_height):\n",
        "            for j in range(out_width):\n",
        "                h_start, h_end = i * self.stride, i * self.stride + self.kernel_size\n",
        "                w_start, w_end = j * self.stride, j * self.stride + self.kernel_size\n",
        "                region = input_padded[:, :, h_start:h_end, w_start:w_end]\n",
        "                self.output[:, :, i, j] = np.max(region, axis=(2, 3))\n",
        "\n",
        "                max_mask = (region == self.output[:, :, i, j, None, None])\n",
        "                self.max_indices[:, :, h_start:h_end, w_start:w_end] = max_mask\n",
        "        # Your code goes here. ################################################\n",
        "        return  self.output\n",
        "\n",
        "    def updateGradInput(self, input, gradOutput):\n",
        "        batch_size, channels, height, width = input.shape\n",
        "        pad = self.padding\n",
        "        self.gradInput = np.zeros_like(input)\n",
        "\n",
        "        out_height, out_width = gradOutput.shape[2], gradOutput.shape[3]\n",
        "\n",
        "        for i in range(out_height):\n",
        "            for j in range(out_width):\n",
        "                h_start, h_end = i * self.stride, i * self.stride + self.kernel_size\n",
        "                w_start, w_end = j * self.stride, j * self.stride + self.kernel_size\n",
        "\n",
        "                max_mask = self.max_indices[:, :, h_start:h_end, w_start:w_end]\n",
        "                self.gradInput[:, :, h_start:h_end, w_start:w_end] += max_mask * gradOutput[:, :, i, j, None, None]\n",
        "        # Your code goes here. ################################################\n",
        "        return self.gradInput\n",
        "\n",
        "    def __repr__(self):\n",
        "        return \"MaxPool2d\"\n",
        "class AvgPool2d(Module):\n",
        "    def __init__(self, kernel_size, stride, padding):\n",
        "        super(AvgPool2d, self).__init__()\n",
        "\n",
        "        self.kernel_size = kernel_size\n",
        "        self.stride = stride\n",
        "        self.padding = padding\n",
        "\n",
        "    def updateOutput(self, input):\n",
        "\n",
        "        # Your code goes here. ################################################\n",
        "        return  self.output\n",
        "\n",
        "    def updateGradInput(self, input, gradOutput):\n",
        "\n",
        "        # Your code goes here. ################################################\n",
        "        return self.gradInput\n",
        "\n",
        "    def __repr__(self):\n",
        "        return \"AvgPool2d\"\n",
        ""
      ]
    },
    {
      "cell_type": "markdown",
      "metadata": {
        "id": "KTN5R3CwrukV"
      },
      "source": [
        "#8. (0.3) Implement **GlobalMaxPool2d** and **GlobalAvgPool2d**. They do not have testing and parameters are up to you but they must aggregate information within channels. Write test functions for these layers on your own."
      ]
    },
    {
      "cell_type": "markdown",
      "metadata": {
        "id": "cYeBQDBhtViy"
      },
      "source": [
        "#9. (0.2) Implement [**Flatten**](https://pytorch.org/docs/stable/generated/torch.flatten.html)"
      ]
    },
    {
      "cell_type": "code",
      "execution_count": 21,
      "metadata": {
        "id": "SimPEMOFqhTQ"
      },
      "outputs": [],
      "source": [
        "class Flatten(Module):\n",
        "    def __init__(self, start_dim=0, end_dim=-1):\n",
        "        super(Flatten, self).__init__()\n",
        "        self.start_dim = start_dim\n",
        "        self.end_dim = end_dim\n",
        "    def updateOutput(self, input):\n",
        "        self.input_shape = input.shape\n",
        "        num_dims = len(self.input_shape)\n",
        "        end_dim = self.end_dim if self.end_dim != -1 else num_dims - 1\n",
        "        flattened_dim = np.prod(self.input_shape[self.start_dim:end_dim + 1])\n",
        "        flatten_shape = self.input_shape[:self.start_dim] + (flattened_dim,) + self.input_shape[end_dim + 1:]\n",
        "        self.output = input.reshape(flatten_shape)\n",
        "        # Your code goes here. ################################################\n",
        "        return self.output\n",
        "\n",
        "    def updateGradInput(self, input, gradOutput):\n",
        "        self.gradInput = gradOutput.reshape(self.input_shape)\n",
        "        # Your code goes here. ################################################\n",
        "        return self.gradInput\n",
        "\n",
        "    def __repr__(self):\n",
        "        return \"Flatten\""
      ]
    },
    {
      "cell_type": "markdown",
      "metadata": {
        "id": "o36vPHSSj6eb"
      },
      "source": [
        "# Activation functions"
      ]
    },
    {
      "cell_type": "markdown",
      "metadata": {
        "id": "l_pryRQIj6ec"
      },
      "source": [
        "Here's the complete example for the **Rectified Linear Unit** non-linearity (aka **ReLU**):"
      ]
    },
    {
      "cell_type": "code",
      "execution_count": 22,
      "metadata": {
        "collapsed": true,
        "id": "sgm8bXjKj6ec",
        "jupyter": {
          "outputs_hidden": true
        }
      },
      "outputs": [],
      "source": [
        "class ReLU(Module):\n",
        "    def __init__(self):\n",
        "         super(ReLU, self).__init__()\n",
        "\n",
        "    def updateOutput(self, input):\n",
        "        self.output = np.maximum(input, 0)\n",
        "        return self.output\n",
        "\n",
        "    def updateGradInput(self, input, gradOutput):\n",
        "        self.gradInput = np.multiply(gradOutput , input > 0)\n",
        "        return self.gradInput\n",
        "\n",
        "    def __repr__(self):\n",
        "        return \"ReLU\""
      ]
    },
    {
      "cell_type": "markdown",
      "metadata": {
        "id": "yB0UHGagj6ec"
      },
      "source": [
        "## 10. (0.1) Leaky ReLU\n",
        "Implement [**Leaky Rectified Linear Unit**](http://en.wikipedia.org/wiki%2FRectifier_%28neural_networks%29%23Leaky_ReLUs). Expriment with slope."
      ]
    },
    {
      "cell_type": "code",
      "execution_count": 23,
      "metadata": {
        "id": "agwfkwO0j6ec"
      },
      "outputs": [],
      "source": [
        "class LeakyReLU(Module):\n",
        "    def __init__(self, slope = 0.03):\n",
        "        super(LeakyReLU, self).__init__()\n",
        "\n",
        "        self.slope = slope\n",
        "\n",
        "    def updateOutput(self, input):\n",
        "        self.output = np.maximum(input, self.slope * input)\n",
        "        # Your code goes here. ################################################\n",
        "        return  self.output\n",
        "\n",
        "    def updateGradInput(self, input, gradOutput):\n",
        "        self.gradInput = np.multiply(gradOutput, input > 0) + np.multiply(gradOutput, input <= 0) * self.slope\n",
        "        # Your code goes here. ################################################\n",
        "        return self.gradInput\n",
        "\n",
        "    def __repr__(self):\n",
        "        return \"LeakyReLU\""
      ]
    },
    {
      "cell_type": "markdown",
      "metadata": {
        "id": "t-STyecvj6ec"
      },
      "source": [
        "## 11. (0.1) ELU\n",
        "Implement [**Exponential Linear Units**](http://arxiv.org/abs/1511.07289) activations."
      ]
    },
    {
      "cell_type": "code",
      "execution_count": 18,
      "metadata": {
        "id": "jJSzEu1mj6ec"
      },
      "outputs": [],
      "source": [
        "class ELU(Module):\n",
        "    def __init__(self, alpha = 1.0):\n",
        "        super(ELU, self).__init__()\n",
        "\n",
        "        self.alpha = alpha\n",
        "\n",
        "    def updateOutput(self, input):\n",
        "        self.output = np.where(input > 0, input, self.alpha * (np.exp(input) - 1))\n",
        "        # Your code goes here. ################################################\n",
        "        return  self.output\n",
        "\n",
        "    def updateGradInput(self, input, gradOutput):\n",
        "        elu_grad = np.where(input > 0, 1, self.alpha * np.exp(input))\n",
        "        self.gradInput = gradOutput * elu_grad\n",
        "        return self.gradInput\n",
        "        # Your code goes here. ################################################\n",
        "        return self.gradInput\n",
        "\n",
        "    def __repr__(self):\n",
        "        return \"ELU\""
      ]
    },
    {
      "cell_type": "markdown",
      "metadata": {
        "id": "Gn3C7KTqj6ec"
      },
      "source": [
        "## 12. (0.1) SoftPlus\n",
        "Implement [**SoftPlus**](https://en.wikipedia.org/wiki%2FRectifier_%28neural_networks%29) activations. Look, how they look a lot like ReLU."
      ]
    },
    {
      "cell_type": "code",
      "execution_count": 19,
      "metadata": {
        "id": "xcDPMssrj6ec"
      },
      "outputs": [],
      "source": [
        "class SoftPlus(Module):\n",
        "    def __init__(self):\n",
        "        super(SoftPlus, self).__init__()\n",
        "\n",
        "    def updateOutput(self, input):\n",
        "        self.output = np.log(1 + np.exp(input))\n",
        "        # Your code goes here. ################################################\n",
        "        return  self.output\n",
        "\n",
        "    def updateGradInput(self, input, gradOutput):\n",
        "        self.gradInput = gradOutput / (1 + np.exp(-input))\n",
        "        # Your code goes here. ################################################\n",
        "        return self.gradInput\n",
        "\n",
        "    def __repr__(self):\n",
        "        return \"SoftPlus\""
      ]
    },
    {
      "cell_type": "markdown",
      "metadata": {
        "id": "kw3PeZjOuo0e"
      },
      "source": [
        "#13. (0.2) Gelu\n",
        "Implement [**Gelu**](https://pytorch.org/docs/stable/generated/torch.nn.GELU.html) activations."
      ]
    },
    {
      "cell_type": "code",
      "execution_count": 20,
      "metadata": {
        "id": "SdieE0Dtuo8j"
      },
      "outputs": [],
      "source": [
        "class Gelu(Module):\n",
        "    def __init__(self):\n",
        "        super(Gelu, self).__init__()\n",
        "    def updateOutput(self, input):\n",
        "        self.input = input\n",
        "        self.output = 0.5 * self.input * (1 + np.tanh(np.sqrt(2 / np.pi) * (self.input + 0.044715 * self.input ** 3)))\n",
        "        return self.output\n",
        "\n",
        "    def updateGradInput(self, input, gradOutput):\n",
        "        self.input = input\n",
        "        c = 0.044715\n",
        "        tanh_arg = np.sqrt(2 / np.pi) * (self.input + c * self.input**3)\n",
        "        tanh_val = np.tanh(tanh_arg)\n",
        "        sech_sq_val = 1 / np.cosh(tanh_arg)**2\n",
        "        d_tanh_arg_dx = np.sqrt(2 / np.pi) * (1 + 3 * c * self.input**2)\n",
        "        d_gelu_dx = 0.5 * (1 + tanh_val) + 0.5 * self.input * sech_sq_val * d_tanh_arg_dx\n",
        "        self.gradInput = gradOutput * d_gelu_dx\n",
        "        return self.gradInput\n",
        "    def __repr__(self):\n",
        "        return \"Gelu\""
      ]
    },
    {
      "cell_type": "markdown",
      "metadata": {
        "id": "55p7UvPAj6ec"
      },
      "source": [
        "# Criterions"
      ]
    },
    {
      "cell_type": "markdown",
      "metadata": {
        "id": "5NFaxZaqj6ec"
      },
      "source": [
        "Criterions are used to score the models answers."
      ]
    },
    {
      "cell_type": "code",
      "execution_count": 24,
      "metadata": {
        "id": "XGu45A8qj6ec"
      },
      "outputs": [],
      "source": [
        "class Criterion(object):\n",
        "    def __init__ (self):\n",
        "        self.output = None\n",
        "        self.gradInput = None\n",
        "\n",
        "    def forward(self, input, target):\n",
        "        \"\"\"\n",
        "            Given an input and a target, compute the loss function\n",
        "            associated to the criterion and return the result.\n",
        "\n",
        "            For consistency this function should not be overrided,\n",
        "            all the code goes in `updateOutput`.\n",
        "        \"\"\"\n",
        "        return self.updateOutput(input, target)\n",
        "\n",
        "    def backward(self, input, target):\n",
        "        \"\"\"\n",
        "            Given an input and a target, compute the gradients of the loss function\n",
        "            associated to the criterion and return the result.\n",
        "\n",
        "            For consistency this function should not be overrided,\n",
        "            all the code goes in `updateGradInput`.\n",
        "        \"\"\"\n",
        "        return self.updateGradInput(input, target)\n",
        "\n",
        "    def updateOutput(self, input, target):\n",
        "        \"\"\"\n",
        "        Function to override.\n",
        "        \"\"\"\n",
        "        return self.output\n",
        "\n",
        "    def updateGradInput(self, input, target):\n",
        "        \"\"\"\n",
        "        Function to override.\n",
        "        \"\"\"\n",
        "        return self.gradInput\n",
        "\n",
        "    def __repr__(self):\n",
        "        \"\"\"\n",
        "        Pretty printing. Should be overrided in every module if you want\n",
        "        to have readable description.\n",
        "        \"\"\"\n",
        "        return \"Criterion\""
      ]
    },
    {
      "cell_type": "markdown",
      "metadata": {
        "id": "WuU26xkpj6ec"
      },
      "source": [
        "The **MSECriterion**, which is basic L2 norm usually used for regression, is implemented here for you.\n",
        "- input:   **`batch_size x n_feats`**\n",
        "- target: **`batch_size x n_feats`**\n",
        "- output: **scalar**"
      ]
    },
    {
      "cell_type": "code",
      "execution_count": 25,
      "metadata": {
        "id": "-i3VNuHhj6ec"
      },
      "outputs": [],
      "source": [
        "class MSECriterion(Criterion):\n",
        "    def __init__(self):\n",
        "        super(MSECriterion, self).__init__()\n",
        "\n",
        "    def updateOutput(self, input, target):\n",
        "        self.output = np.sum(np.power(input - target,2)) / input.shape[0]\n",
        "        return self.output\n",
        "\n",
        "    def updateGradInput(self, input, target):\n",
        "        self.gradInput  = (input - target) * 2 / input.shape[0]\n",
        "        return self.gradInput\n",
        "\n",
        "    def __repr__(self):\n",
        "        return \"MSECriterion\""
      ]
    },
    {
      "cell_type": "markdown",
      "metadata": {
        "id": "x8LKLWNVj6ec"
      },
      "source": [
        "## 14. (0.2) Negative LogLikelihood criterion (numerically unstable)\n",
        "You task is to implement the **ClassNLLCriterion**. It should implement [multiclass log loss](http://scikit-learn.org/stable/modules/model_evaluation.html#log-loss). Nevertheless there is a sum over `y` (target) in that formula,\n",
        "remember that targets are one-hot encoded. This fact simplifies the computations a lot. Note, that criterions are the only places, where you divide by batch size. Also there is a small hack with adding small number to probabilities to avoid computing log(0).\n",
        "- input:   **`batch_size x n_feats`** - probabilities\n",
        "- target: **`batch_size x n_feats`** - one-hot representation of ground truth\n",
        "- output: **scalar**\n",
        "\n"
      ]
    },
    {
      "cell_type": "code",
      "execution_count": 23,
      "metadata": {
        "id": "die7KvW6j6ec"
      },
      "outputs": [],
      "source": [
        "class ClassNLLCriterionUnstable(Criterion):\n",
        "    EPS = 1e-15\n",
        "    def __init__(self):\n",
        "        a = super(ClassNLLCriterionUnstable, self)\n",
        "        super(ClassNLLCriterionUnstable, self).__init__()\n",
        "    def updateOutput(self, input, target):\n",
        "        # Используем этот трюк, чтобы избежать численных ошибок\n",
        "        input_clamp = np.clip(input, self.EPS, 1 - self.EPS)\n",
        "        self.output = (-np.sum(target * np.log(input_clamp)) / input.shape[0])\n",
        "        return self.output\n",
        "\n",
        "    def updateGradInput(self, input, target):\n",
        "        # Используем этот трюк, чтобы избежать численных ошибок\n",
        "        input_clamp = np.clip(input, self.EPS, 1 - self.EPS)\n",
        "        self.gradInput = (-target / (input_clamp * input.shape[0]))\n",
        "        return self.gradInput\n",
        "\n",
        "    def __repr__(self):\n",
        "        return \"ClassNLLCriterionUnstable\""
      ]
    },
    {
      "cell_type": "markdown",
      "metadata": {
        "id": "uHr_JbU5j6ec"
      },
      "source": [
        "## 15. (0.3) Negative LogLikelihood criterion (numerically stable)\n",
        "- input:   **`batch_size x n_feats`** - log probabilities\n",
        "- target: **`batch_size x n_feats`** - one-hot representation of ground truth\n",
        "- output: **scalar**\n",
        "\n",
        "Task is similar to the previous one, but now the criterion input is the output of log-softmax layer. This decomposition allows us to avoid problems with computation of forward and backward of log()."
      ]
    },
    {
      "cell_type": "code",
      "execution_count": 24,
      "metadata": {
        "id": "v7N8bVP9j6ec"
      },
      "outputs": [],
      "source": [
        "class ClassNLLCriterion(Criterion):\n",
        "    def __init__(self):\n",
        "        a = super(ClassNLLCriterion, self)\n",
        "        super(ClassNLLCriterion, self).__init__()\n",
        "\n",
        "    def updateOutput(self, input, target):\n",
        "        self.output = -np.sum(target * input) / input.shape[0]\n",
        "        # Your code goes here. ################################################\n",
        "        return self.output\n",
        "\n",
        "    def updateGradInput(self, input, target):\n",
        "        self.gradInput = -target / input.shape[0]\n",
        "        # Your code goes here. ################################################\n",
        "        return self.gradInput\n",
        "\n",
        "    def __repr__(self):\n",
        "        return \"ClassNLLCriterion\""
      ]
    },
    {
      "cell_type": "code",
      "execution_count": 45,
      "metadata": {
        "id": "E-ZnhKxaj6ed"
      },
      "outputs": [],
      "source": []
    },
    {
      "cell_type": "markdown",
      "metadata": {
        "id": "TC2Bf1PP2Ios"
      },
      "source": [
        "1-я часть задания: реализация слоев, лосей и функций активации - 5 баллов. \\\\\n",
        "2-я часть задания: реализация моделей на своих классах. Что должно быть:\n",
        "  1. Выберите оптимизатор и реализуйте его, чтоб он работал с вами классами. - 1 балл.\n",
        "  2. Модель для задачи мультирегрессии на выбраных вами данных. Использовать FCNN, dropout, batchnorm, MSE. Пробуйте различные фукнции активации. Для первой модели попробуйте большую, среднюю и маленькую модель. - 1 балл.\n",
        "  3. Модель для задачи мультиклассификации на MNIST. Использовать свёртки, макспулы, флэттэны, софтмаксы - 1 балла.\n",
        "  4. Автоэнкодер для выбранных вами данных. Должен быть на свёртках и полносвязных слоях, дропаутах, батчнормах и тд. - 2 балла. \\\\\n",
        "\n",
        "Дополнительно в оценке каждой модели будет учитываться:\n",
        "1. Наличие правильно выбранной метрики и лосс функции.\n",
        "2. Отрисовка графиков лосей и метрик на трейне-валидации. Проверка качества модели на тесте.\n",
        "3. Наличие шедулера для lr.\n",
        "4. Наличие вормапа.\n",
        "5. Наличие механизма ранней остановки и сохранение лучшей модели.\n",
        "6. Свитч лося (метрики) и оптимайзера."
      ]
    },
    {
      "cell_type": "markdown",
      "source": [
        "**2 ЧАСТЬ ДОМАШКИ, ПОПЫТКИ И ПОДЕЛКИ**\n",
        "\n",
        "\n"
      ],
      "metadata": {
        "id": "2OPMFyY6yIt8"
      }
    },
    {
      "cell_type": "markdown",
      "source": [
        "## Оптимизатор"
      ],
      "metadata": {
        "id": "Cx6MDi7xUJA-"
      }
    },
    {
      "cell_type": "code",
      "source": [
        "class Adagrad:\n",
        "    def __init__(self, parameters, learning_rate=0.001, epsilon=1e-8):\n",
        "        self.parameters = parameters\n",
        "        self.learning_rate = learning_rate\n",
        "        self.epsilon = epsilon\n",
        "        self.grad_squared = [np.zeros_like(param) for param in self.parameters]\n",
        "\n",
        "    def step(self):\n",
        "        for i, param in enumerate(self.parameters):\n",
        "            if param is not None:\n",
        "                self.grad_squared[i] += param ** 2\n",
        "                param -= self.learning_rate * param / (np.sqrt(self.grad_squared[i]) + self.epsilon)\n",
        "\n",
        "    def zero_grad(self):\n",
        "        for param in self.parameters:\n",
        "            if param is not None:\n",
        "                param.fill(0)\n",
        "# Mean Squared Error before optimization: 3.885444712971214\n",
        "# Updated weights: [[ 0.16187615 -0.02891488  0.22429851 -0.16696127 -0.30338922 -0.06241489\n",
        "#   -0.1038853   0.18659887 -0.06429343 -0.12891891]\n",
        "#  [ 0.03704954  0.29207653 -0.15081989 -0.23375312 -0.19634278  0.10465812\n",
        "#    0.23115285 -0.11558665 -0.12893655 -0.29608999]]\n",
        "# Updated biases: [ 0.03023535 -0.02040391]\n",
        "# Mean Squared Error after optimization: 3.8194445855494394\n",
        "# Gradients after zeroing: Linear 10 -> 2"
      ],
      "metadata": {
        "id": "A2NfpjdXVk4q"
      },
      "execution_count": 100,
      "outputs": []
    },
    {
      "cell_type": "code",
      "source": [
        "class OptimizerAdam:\n",
        "    def __init__(self, parameters, lr=0.001, b1=0.9, b2=0.999, eps=1e-8):\n",
        "        self.lr = lr\n",
        "        self.b1 = b1\n",
        "        self.b2 = b2\n",
        "        self.eps = eps\n",
        "        self.parameter_data = []\n",
        "        for i, param in enumerate(parameters):\n",
        "            if param is not None:\n",
        "                self.parameter_data.append({\n",
        "                    'index': i,\n",
        "                    'param': param,\n",
        "                    'm': np.zeros_like(param),\n",
        "                    'v': np.zeros_like(param)\n",
        "                })\n",
        "        self.t = 0\n",
        "    def step(self, gradParameters):\n",
        "        self.t += 1\n",
        "        for data in self.parameter_data:\n",
        "            index = data['index']\n",
        "            param = data['param']\n",
        "            m = data['m']\n",
        "            v = data['v']\n",
        "            grad = gradParameters[index]\n",
        "            m = self.b1 * m + (1 - self.b1) * grad\n",
        "            v = self.b2 * v + (1 - self.b2) * (grad ** 2)\n",
        "            estim_m = m / (1 - self.b1 ** self.t)\n",
        "            estim_v = v / (1 - self.b2 ** self.t)\n",
        "            param -= self.lr * estim_m / (np.sqrt(estim_v) + self.eps)\n",
        "            data['m'] = m\n",
        "            data['v'] = v\n",
        "            data['param'] = param\n",
        "\n",
        "    def zero_grad(self):\n",
        "        for data in self.parameter_data:\n",
        "            data['m'] = np.zeros_like(data['param'])\n",
        "            data['v'] = np.zeros_like(data['param'])"
      ],
      "metadata": {
        "id": "NnYcZb3v2S6o"
      },
      "execution_count": 134,
      "outputs": []
    }
  ],
  "metadata": {
    "colab": {
      "provenance": [],
      "collapsed_sections": [
        "mKRkIjT8j6eZ",
        "tNOnHXZJj6eb",
        "Cy3DJjynj6eb",
        "Gackeo1cj6eb",
        "updUVZE9qixP",
        "t-STyecvj6ec",
        "Gn3C7KTqj6ec",
        "kw3PeZjOuo0e"
      ]
    },
    "kernelspec": {
      "display_name": "Python 3 (ipykernel)",
      "language": "python",
      "name": "python3"
    },
    "language_info": {
      "codemirror_mode": {
        "name": "ipython",
        "version": 3
      },
      "file_extension": ".py",
      "mimetype": "text/x-python",
      "name": "python",
      "nbconvert_exporter": "python",
      "pygments_lexer": "ipython3",
      "version": "3.12.4"
    }
  },
  "nbformat": 4,
  "nbformat_minor": 0
}
